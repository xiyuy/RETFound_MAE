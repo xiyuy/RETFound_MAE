{
 "cells": [
  {
   "cell_type": "markdown",
   "id": "b2e049c7-d5db-45e6-b651-2601c02f4b7d",
   "metadata": {},
   "source": [
    "## Data organisation example - Messidor2"
   ]
  },
  {
   "cell_type": "code",
   "execution_count": 1,
   "id": "16b65740-249b-4eef-9298-1db01f72d050",
   "metadata": {},
   "outputs": [],
   "source": [
    "import os\n",
    "import shutil\n",
    "import pandas as pd\n",
    "import numpy as np\n",
    "from sklearn.model_selection import train_test_split"
   ]
  },
  {
   "cell_type": "code",
   "execution_count": 2,
   "id": "535d6d51",
   "metadata": {},
   "outputs": [
    {
     "name": "stdout",
     "output_type": "stream",
     "text": [
      "Total messidor2 images: 1748\n"
     ]
    }
   ],
   "source": [
    "# count total images in messidor2 folder\n",
    "working_dir = os.getcwd()\n",
    "print(\"Total messidor2 images:\", len(os.listdir(os.path.join(working_dir, \"data/messidor2/IMAGES/\"))))"
   ]
  },
  {
   "cell_type": "markdown",
   "id": "04b08210",
   "metadata": {},
   "source": [
    "## Preprocess label_df"
   ]
  },
  {
   "cell_type": "code",
   "execution_count": 3,
   "id": "73d2d204",
   "metadata": {},
   "outputs": [
    {
     "name": "stdout",
     "output_type": "stream",
     "text": [
      "Shape: (1748, 2)\n"
     ]
    },
    {
     "data": {
      "text/html": [
       "<div>\n",
       "<style scoped>\n",
       "    .dataframe tbody tr th:only-of-type {\n",
       "        vertical-align: middle;\n",
       "    }\n",
       "\n",
       "    .dataframe tbody tr th {\n",
       "        vertical-align: top;\n",
       "    }\n",
       "\n",
       "    .dataframe thead th {\n",
       "        text-align: right;\n",
       "    }\n",
       "</style>\n",
       "<table border=\"1\" class=\"dataframe\">\n",
       "  <thead>\n",
       "    <tr style=\"text-align: right;\">\n",
       "      <th></th>\n",
       "      <th>image_id</th>\n",
       "      <th>adjudicated_dr_grade</th>\n",
       "    </tr>\n",
       "  </thead>\n",
       "  <tbody>\n",
       "    <tr>\n",
       "      <th>0</th>\n",
       "      <td>20051020_43808_0100_PP.png</td>\n",
       "      <td>0.0</td>\n",
       "    </tr>\n",
       "    <tr>\n",
       "      <th>1</th>\n",
       "      <td>20051020_43832_0100_PP.png</td>\n",
       "      <td>1.0</td>\n",
       "    </tr>\n",
       "    <tr>\n",
       "      <th>2</th>\n",
       "      <td>20051020_43882_0100_PP.png</td>\n",
       "      <td>1.0</td>\n",
       "    </tr>\n",
       "    <tr>\n",
       "      <th>3</th>\n",
       "      <td>20051020_43906_0100_PP.png</td>\n",
       "      <td>2.0</td>\n",
       "    </tr>\n",
       "    <tr>\n",
       "      <th>4</th>\n",
       "      <td>20051020_44261_0100_PP.png</td>\n",
       "      <td>0.0</td>\n",
       "    </tr>\n",
       "  </tbody>\n",
       "</table>\n",
       "</div>"
      ],
      "text/plain": [
       "                     image_id  adjudicated_dr_grade\n",
       "0  20051020_43808_0100_PP.png                   0.0\n",
       "1  20051020_43832_0100_PP.png                   1.0\n",
       "2  20051020_43882_0100_PP.png                   1.0\n",
       "3  20051020_43906_0100_PP.png                   2.0\n",
       "4  20051020_44261_0100_PP.png                   0.0"
      ]
     },
     "execution_count": 3,
     "metadata": {},
     "output_type": "execute_result"
    }
   ],
   "source": [
    "working_dir = os.getcwd()\n",
    "label_df = pd.read_csv(os.path.join(working_dir, \"data/messidor2/messidor_data.csv\"))\n",
    "label_df = label_df[[\"image_id\", \"adjudicated_dr_grade\"]]\n",
    "print(\"Shape:\", label_df.shape)\n",
    "label_df.head()"
   ]
  },
  {
   "cell_type": "code",
   "execution_count": 4,
   "id": "7099941f",
   "metadata": {},
   "outputs": [
    {
     "name": "stderr",
     "output_type": "stream",
     "text": [
      "/tmp/ipykernel_5931/2444607737.py:2: FutureWarning: The default value of regex will change from True to False in a future version.\n",
      "  label_df.image_id = label_df.image_id.str.replace(\".jpg\", \".JPG\")\n"
     ]
    },
    {
     "data": {
      "text/plain": [
       "image_id                IM004832.JPG\n",
       "adjudicated_dr_grade             0.0\n",
       "Name: 1747, dtype: object"
      ]
     },
     "execution_count": 4,
     "metadata": {},
     "output_type": "execute_result"
    }
   ],
   "source": [
    "# substitute all jpg by JPG\n",
    "label_df.image_id = label_df.image_id.str.replace(\".jpg\", \".JPG\")\n",
    "label_df.iloc[-1, :]"
   ]
  },
  {
   "cell_type": "code",
   "execution_count": 5,
   "id": "e4927aa6",
   "metadata": {},
   "outputs": [
    {
     "data": {
      "text/plain": [
       "(1744, 2)"
      ]
     },
     "execution_count": 5,
     "metadata": {},
     "output_type": "execute_result"
    }
   ],
   "source": [
    "# count number of missings in adjudicated_dr_grade\n",
    "label_df = label_df[~label_df.adjudicated_dr_grade.isna()]\n",
    "label_df.shape"
   ]
  },
  {
   "cell_type": "code",
   "execution_count": 6,
   "id": "6c317c46",
   "metadata": {},
   "outputs": [
    {
     "name": "stdout",
     "output_type": "stream",
     "text": [
      "Unique values: [0. 1. 2. 3. 4.]\n"
     ]
    }
   ],
   "source": [
    "# We will do 5-class classification\n",
    "# label_df.loc[label_df.adjudicated_dr_grade == 2, \"adjudicated_dr_grade\"] = 1\n",
    "# label_df.loc[label_df.adjudicated_dr_grade == 3, \"adjudicated_dr_grade\"] = 1\n",
    "# label_df.loc[label_df.adjudicated_dr_grade == 4, \"adjudicated_dr_grade\"] = 2\n",
    "\n",
    "print(\"Unique values:\", pd.unique(label_df.adjudicated_dr_grade))"
   ]
  },
  {
   "cell_type": "code",
   "execution_count": 11,
   "id": "43fc4a5e",
   "metadata": {},
   "outputs": [
    {
     "name": "stdout",
     "output_type": "stream",
     "text": [
      "train-val-test size: 976 244 524\n"
     ]
    }
   ],
   "source": [
    "label_train, label_test = train_test_split(label_df, stratify=label_df.adjudicated_dr_grade, test_size=0.3, random_state=0)\n",
    "label_train, label_val = train_test_split(label_train, stratify=label_train.adjudicated_dr_grade, test_size=0.2, random_state=0)\n",
    "\n",
    "print(\"train-val-test size:\", \n",
    "      label_train.shape[0],\n",
    "      label_val.shape[0], \n",
    "      label_test.shape[0])"
   ]
  },
  {
   "cell_type": "code",
   "execution_count": 12,
   "id": "2473372e",
   "metadata": {},
   "outputs": [
    {
     "name": "stdout",
     "output_type": "stream",
     "text": [
      "Train label percentage: [0.5829918  0.15471311 0.19877049 0.04303279 0.0204918 ]\n",
      "Validation label percentage: [0.58196721 0.1557377  0.20081967 0.04098361 0.0204918 ]\n",
      "Test label percentage: [0.58396947 0.15458015 0.19847328 0.04389313 0.01908397]\n"
     ]
    }
   ],
   "source": [
    "# check label distribution in train, val and test data\n",
    "_, label_train_counts = np.unique(label_train.adjudicated_dr_grade, return_counts=True)\n",
    "print(\"Train label percentage:\", label_train_counts / sum(label_train_counts))\n",
    "\n",
    "_, label_val_counts = np.unique(label_val.adjudicated_dr_grade, return_counts=True)\n",
    "print(\"Validation label percentage:\", label_val_counts / sum(label_val_counts))\n",
    "\n",
    "_, label_test_counts = np.unique(label_test.adjudicated_dr_grade, return_counts=True)\n",
    "print(\"Test label percentage:\", label_test_counts / sum(label_test_counts))"
   ]
  },
  {
   "cell_type": "markdown",
   "id": "582d92c2",
   "metadata": {},
   "source": [
    "## Separate images to train folder"
   ]
  },
  {
   "cell_type": "code",
   "execution_count": 13,
   "id": "5e6e84f6",
   "metadata": {},
   "outputs": [
    {
     "data": {
      "text/plain": [
       "976"
      ]
     },
     "execution_count": 13,
     "metadata": {},
     "output_type": "execute_result"
    }
   ],
   "source": [
    "noDR_train = label_train.loc[label_train['adjudicated_dr_grade']==0, 'image_id']\n",
    "NPDR1_train = label_train.loc[label_train['adjudicated_dr_grade']==1, 'image_id']\n",
    "NPDR2_train = label_train.loc[label_train['adjudicated_dr_grade']==2, 'image_id']\n",
    "NPDR3_train = label_train.loc[label_train['adjudicated_dr_grade']==3, 'image_id']\n",
    "PDR_train = label_train.loc[label_train['adjudicated_dr_grade']==4, 'image_id']\n",
    "len(noDR_train) + len(NPDR1_train) + len(NPDR2_train) + len(NPDR3_train) + len(PDR_train)"
   ]
  },
  {
   "cell_type": "code",
   "execution_count": 14,
   "id": "3cf866b8",
   "metadata": {},
   "outputs": [],
   "source": [
    "for i in noDR_train:\n",
    "    shutil.copy(os.path.join(working_dir, 'data/messidor2/IMAGES/{}'.format(i)), os.path.join(working_dir, 'data/messidor2/train/noDR/{}'.format(i)))\n",
    "    \n",
    "for i in NPDR1_train:\n",
    "    shutil.copy(os.path.join(working_dir, 'data/messidor2/IMAGES/{}'.format(i)), os.path.join(working_dir, 'data/messidor2/train/NPDR1/{}'.format(i)))\n",
    "    \n",
    "for i in NPDR2_train:\n",
    "    shutil.copy(os.path.join(working_dir, 'data/messidor2/IMAGES/{}'.format(i)), os.path.join(working_dir, 'data/messidor2/train/NPDR2/{}'.format(i)))\n",
    "\n",
    "for i in NPDR3_train:\n",
    "    shutil.copy(os.path.join(working_dir, 'data/messidor2/IMAGES/{}'.format(i)), os.path.join(working_dir, 'data/messidor2/train/NPDR3/{}'.format(i)))\n",
    "\n",
    "for i in PDR_train:\n",
    "    shutil.copy(os.path.join(working_dir, 'data/messidor2/IMAGES/{}'.format(i)), os.path.join(working_dir, 'data/messidor2/train/PDR/{}'.format(i)))\n"
   ]
  },
  {
   "cell_type": "code",
   "execution_count": 15,
   "id": "700bc10b",
   "metadata": {},
   "outputs": [
    {
     "name": "stdout",
     "output_type": "stream",
     "text": [
      "Train set size: 976\n"
     ]
    }
   ],
   "source": [
    "# check number of images in train, val and test sets\n",
    "working_dir = os.getcwd()\n",
    "print(\"Train set size:\", \\\n",
    "    len(os.listdir(os.path.join(working_dir, \"data/messidor2/train/noDR/\"))) + \\\n",
    "    len(os.listdir(os.path.join(working_dir, \"data/messidor2/train/NPDR1/\"))) + \\\n",
    "    len(os.listdir(os.path.join(working_dir, \"data/messidor2/train/NPDR2/\"))) + \\\n",
    "    len(os.listdir(os.path.join(working_dir, \"data/messidor2/train/NPDR3/\"))) + \\\n",
    "    len(os.listdir(os.path.join(working_dir, \"data/messidor2/train/PDR/\")))) "
   ]
  },
  {
   "cell_type": "code",
   "execution_count": 16,
   "metadata": {},
   "outputs": [
    {
     "name": "stdout",
     "output_type": "stream",
     "text": [
      "Train set w/o DR size: 569\n",
      "Train set w NPDR1 size: 151\n",
      "Train set w NPDR2 size: 194\n",
      "Train set w NPDR3 size: 42\n",
      "Train set w PDR size: 20\n"
     ]
    }
   ],
   "source": [
    "working_dir = os.getcwd()\n",
    "print(\"Train set w/o DR size:\", len(os.listdir(os.path.join(working_dir, \"data/messidor2/train/noDR/\"))))\n",
    "print(\"Train set w NPDR1 size:\", len(os.listdir(os.path.join(working_dir, \"data/messidor2/train/NPDR1/\"))))\n",
    "print(\"Train set w NPDR2 size:\", len(os.listdir(os.path.join(working_dir, \"data/messidor2/train/NPDR2/\"))))\n",
    "print(\"Train set w NPDR3 size:\", len(os.listdir(os.path.join(working_dir, \"data/messidor2/train/NPDR3/\"))))\n",
    "print(\"Train set w PDR size:\", len(os.listdir(os.path.join(working_dir, \"data/messidor2/train/PDR/\"))))"
   ]
  },
  {
   "cell_type": "markdown",
   "id": "896a65bc",
   "metadata": {},
   "source": [
    "## Separate images to validation folder"
   ]
  },
  {
   "cell_type": "code",
   "execution_count": 17,
   "id": "0e2ebbf3",
   "metadata": {},
   "outputs": [
    {
     "data": {
      "text/plain": [
       "244"
      ]
     },
     "execution_count": 17,
     "metadata": {},
     "output_type": "execute_result"
    }
   ],
   "source": [
    "noDR_val = label_val.loc[label_val['adjudicated_dr_grade']==0, 'image_id']\n",
    "NPDR1_val = label_val.loc[label_val['adjudicated_dr_grade']==1, 'image_id']\n",
    "NPDR2_val = label_val.loc[label_val['adjudicated_dr_grade']==2, 'image_id']\n",
    "NPDR3_val = label_val.loc[label_val['adjudicated_dr_grade']==3, 'image_id']\n",
    "PDR_val = label_val.loc[label_val['adjudicated_dr_grade']==4, 'image_id']\n",
    "len(noDR_val) + len(NPDR1_val) + len(NPDR2_val) + len(NPDR3_val) + len(PDR_val)"
   ]
  },
  {
   "cell_type": "code",
   "execution_count": 18,
   "id": "9ce8a1d5",
   "metadata": {},
   "outputs": [],
   "source": [
    "for i in noDR_val:\n",
    "    shutil.copy(os.path.join(working_dir, 'data/messidor2/IMAGES/{}'.format(i)), os.path.join(working_dir, 'data/messidor2/val/noDR/{}'.format(i)))\n",
    "   \n",
    "for i in NPDR1_val:\n",
    "    shutil.copy(os.path.join(working_dir, 'data/messidor2/IMAGES/{}'.format(i)), os.path.join(working_dir, 'data/messidor2/val/NPDR1/{}'.format(i)))\n",
    "    \n",
    "for i in NPDR2_val:\n",
    "    shutil.copy(os.path.join(working_dir, 'data/messidor2/IMAGES/{}'.format(i)), os.path.join(working_dir, 'data/messidor2/val/NPDR2/{}'.format(i)))\n",
    "\n",
    "for i in NPDR3_val:\n",
    "    shutil.copy(os.path.join(working_dir, 'data/messidor2/IMAGES/{}'.format(i)), os.path.join(working_dir, 'data/messidor2/val/NPDR3/{}'.format(i)))\n",
    "\n",
    "for i in PDR_val:\n",
    "    shutil.copy(os.path.join(working_dir, 'data/messidor2/IMAGES/{}'.format(i)), os.path.join(working_dir, 'data/messidor2/val/PDR/{}'.format(i)))\n"
   ]
  },
  {
   "cell_type": "code",
   "execution_count": 19,
   "id": "0a05561f",
   "metadata": {},
   "outputs": [
    {
     "name": "stdout",
     "output_type": "stream",
     "text": [
      "Validation set size: 244\n"
     ]
    }
   ],
   "source": [
    "# check number of images in train, val and test sets\n",
    "working_dir = os.getcwd()\n",
    "print(\"Validation set size:\", \\\n",
    "    len(os.listdir(os.path.join(working_dir, \"data/messidor2/val/noDR/\"))) + \\\n",
    "    len(os.listdir(os.path.join(working_dir, \"data/messidor2/val/NPDR1/\"))) + \\\n",
    "    len(os.listdir(os.path.join(working_dir, \"data/messidor2/val/NPDR2/\"))) + \\\n",
    "    len(os.listdir(os.path.join(working_dir, \"data/messidor2/val/NPDR3/\"))) + \\\n",
    "    len(os.listdir(os.path.join(working_dir, \"data/messidor2/val/PDR/\")))) "
   ]
  },
  {
   "cell_type": "code",
   "execution_count": 20,
   "id": "ca366eaa",
   "metadata": {},
   "outputs": [
    {
     "name": "stdout",
     "output_type": "stream",
     "text": [
      "Validation set w/o DR size: 142\n",
      "Validation set w NPDR1 size: 38\n",
      "Validation set w NPDR2 size: 49\n",
      "Validation set w NPDR3 size: 10\n",
      "Validation set w PDR size: 5\n"
     ]
    }
   ],
   "source": [
    "working_dir = os.getcwd()\n",
    "print(\"Validation set w/o DR size:\", len(os.listdir(os.path.join(working_dir, \"data/messidor2/val/noDR/\"))))\n",
    "print(\"Validation set w NPDR1 size:\", len(os.listdir(os.path.join(working_dir, \"data/messidor2/val/NPDR1/\"))))\n",
    "print(\"Validation set w NPDR2 size:\", len(os.listdir(os.path.join(working_dir, \"data/messidor2/val/NPDR2/\"))))\n",
    "print(\"Validation set w NPDR3 size:\", len(os.listdir(os.path.join(working_dir, \"data/messidor2/val/NPDR3/\"))))\n",
    "print(\"Validation set w PDR size:\", len(os.listdir(os.path.join(working_dir, \"data/messidor2/val/PDR/\"))))"
   ]
  },
  {
   "cell_type": "markdown",
   "id": "c7c6cae3",
   "metadata": {},
   "source": [
    "## Separate images to test folder"
   ]
  },
  {
   "cell_type": "code",
   "execution_count": 21,
   "id": "71def094",
   "metadata": {},
   "outputs": [
    {
     "data": {
      "text/plain": [
       "524"
      ]
     },
     "execution_count": 21,
     "metadata": {},
     "output_type": "execute_result"
    }
   ],
   "source": [
    "noDR_test = label_test.loc[label_test['adjudicated_dr_grade']==0, 'image_id']\n",
    "NPDR1_test = label_test.loc[label_test['adjudicated_dr_grade']==1, 'image_id']\n",
    "NPDR2_test = label_test.loc[label_test['adjudicated_dr_grade']==2, 'image_id']\n",
    "NPDR3_test = label_test.loc[label_test['adjudicated_dr_grade']==3, 'image_id']\n",
    "PDR_test = label_test.loc[label_test['adjudicated_dr_grade']==4, 'image_id']\n",
    "len(noDR_test) + len(NPDR1_test) + len(NPDR2_test) + len(NPDR3_test) + len(PDR_test)"
   ]
  },
  {
   "cell_type": "code",
   "execution_count": 22,
   "id": "11e7cde6",
   "metadata": {},
   "outputs": [],
   "source": [
    "for i in noDR_test:\n",
    "    shutil.copy(os.path.join(working_dir, 'data/messidor2/IMAGES/{}'.format(i)), os.path.join(working_dir, 'data/messidor2/test/noDR/{}'.format(i)))\n",
    "   \n",
    "for i in NPDR1_test:\n",
    "    shutil.copy(os.path.join(working_dir, 'data/messidor2/IMAGES/{}'.format(i)), os.path.join(working_dir, 'data/messidor2/test/NPDR1/{}'.format(i)))\n",
    "    \n",
    "for i in NPDR2_test:\n",
    "    shutil.copy(os.path.join(working_dir, 'data/messidor2/IMAGES/{}'.format(i)), os.path.join(working_dir, 'data/messidor2/test/NPDR2/{}'.format(i)))\n",
    "\n",
    "for i in NPDR3_test:\n",
    "    shutil.copy(os.path.join(working_dir, 'data/messidor2/IMAGES/{}'.format(i)), os.path.join(working_dir, 'data/messidor2/test/NPDR3/{}'.format(i)))\n",
    "\n",
    "for i in PDR_test:\n",
    "    shutil.copy(os.path.join(working_dir, 'data/messidor2/IMAGES/{}'.format(i)), os.path.join(working_dir, 'data/messidor2/test/PDR/{}'.format(i)))\n"
   ]
  },
  {
   "cell_type": "code",
   "execution_count": 23,
   "id": "6d6fa82b",
   "metadata": {},
   "outputs": [
    {
     "name": "stdout",
     "output_type": "stream",
     "text": [
      "Test set size: 524\n"
     ]
    }
   ],
   "source": [
    "# check number of images in train, val and test sets\n",
    "working_dir = os.getcwd()\n",
    "print(\"Test set size:\", \\\n",
    "    len(os.listdir(os.path.join(working_dir, \"data/messidor2/test/noDR/\"))) + \\\n",
    "    len(os.listdir(os.path.join(working_dir, \"data/messidor2/test/NPDR1/\"))) + \\\n",
    "    len(os.listdir(os.path.join(working_dir, \"data/messidor2/test/NPDR2/\"))) + \\\n",
    "    len(os.listdir(os.path.join(working_dir, \"data/messidor2/test/NPDR3/\"))) + \\\n",
    "    len(os.listdir(os.path.join(working_dir, \"data/messidor2/test/PDR/\")))) "
   ]
  },
  {
   "cell_type": "code",
   "execution_count": 24,
   "id": "0601ed50",
   "metadata": {},
   "outputs": [
    {
     "name": "stdout",
     "output_type": "stream",
     "text": [
      "Test set w/o DR size: 306\n",
      "Test set w NPDR1 size: 81\n",
      "Test set w NPDR2 size: 104\n",
      "Test set w NPDR3 size: 23\n",
      "Test set w PDR size: 10\n"
     ]
    }
   ],
   "source": [
    "working_dir = os.getcwd()\n",
    "print(\"Test set w/o DR size:\", len(os.listdir(os.path.join(working_dir, \"data/messidor2/test/noDR/\"))))\n",
    "print(\"Test set w NPDR1 size:\", len(os.listdir(os.path.join(working_dir, \"data/messidor2/test/NPDR1/\"))))\n",
    "print(\"Test set w NPDR2 size:\", len(os.listdir(os.path.join(working_dir, \"data/messidor2/test/NPDR2/\"))))\n",
    "print(\"Test set w NPDR3 size:\", len(os.listdir(os.path.join(working_dir, \"data/messidor2/test/NPDR3/\"))))\n",
    "print(\"Test set w PDR size:\", len(os.listdir(os.path.join(working_dir, \"data/messidor2/test/PDR/\"))))"
   ]
  }
 ],
 "metadata": {
  "environment": {
   "kernel": "python3",
   "name": "common-cu110.m91",
   "type": "gcloud",
   "uri": "gcr.io/deeplearning-platform-release/base-cu110:m91"
  },
  "kernelspec": {
   "display_name": "Python 3",
   "language": "python",
   "name": "python3"
  },
  "language_info": {
   "codemirror_mode": {
    "name": "ipython",
    "version": 3
   },
   "file_extension": ".py",
   "mimetype": "text/x-python",
   "name": "python",
   "nbconvert_exporter": "python",
   "pygments_lexer": "ipython3",
   "version": "3.9.12"
  }
 },
 "nbformat": 4,
 "nbformat_minor": 5
}
