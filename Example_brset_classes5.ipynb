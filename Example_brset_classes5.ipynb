{
 "cells": [
  {
   "cell_type": "markdown",
   "id": "b2e049c7-d5db-45e6-b651-2601c02f4b7d",
   "metadata": {},
   "source": [
    "## Data organisation example - BRSET"
   ]
  },
  {
   "cell_type": "code",
   "execution_count": 1,
   "id": "16b65740-249b-4eef-9298-1db01f72d050",
   "metadata": {},
   "outputs": [],
   "source": [
    "import os\n",
    "import shutil\n",
    "import pandas as pd\n",
    "import numpy as np\n",
    "from sklearn.model_selection import train_test_split\n",
    "\n",
    "# from PIL import Image\n",
    "# import torchvision.transforms.functional as TF\n",
    "# import torch"
   ]
  },
  {
   "cell_type": "markdown",
   "id": "aed89334",
   "metadata": {},
   "source": [
    "### Check number of document in images folder"
   ]
  },
  {
   "cell_type": "code",
   "execution_count": 3,
   "id": "0f7a3885",
   "metadata": {},
   "outputs": [
    {
     "data": {
      "text/plain": [
       "4652"
      ]
     },
     "execution_count": 3,
     "metadata": {},
     "output_type": "execute_result"
    }
   ],
   "source": [
    "working_dir = os.getcwd()\n",
    "len(os.listdir(os.path.join(working_dir, \"data/BRSET/images/\")))"
   ]
  },
  {
   "cell_type": "markdown",
   "id": "04b08210",
   "metadata": {},
   "source": [
    "### Preprocess label_df"
   ]
  },
  {
   "cell_type": "code",
   "execution_count": 2,
   "id": "73d2d204",
   "metadata": {},
   "outputs": [
    {
     "name": "stdout",
     "output_type": "stream",
     "text": [
      "Shape: (4652, 2)\n"
     ]
    },
    {
     "data": {
      "text/html": [
       "<div>\n",
       "<style scoped>\n",
       "    .dataframe tbody tr th:only-of-type {\n",
       "        vertical-align: middle;\n",
       "    }\n",
       "\n",
       "    .dataframe tbody tr th {\n",
       "        vertical-align: top;\n",
       "    }\n",
       "\n",
       "    .dataframe thead th {\n",
       "        text-align: right;\n",
       "    }\n",
       "</style>\n",
       "<table border=\"1\" class=\"dataframe\">\n",
       "  <thead>\n",
       "    <tr style=\"text-align: right;\">\n",
       "      <th></th>\n",
       "      <th>image_id</th>\n",
       "      <th>DR_ICDR</th>\n",
       "    </tr>\n",
       "  </thead>\n",
       "  <tbody>\n",
       "    <tr>\n",
       "      <th>0</th>\n",
       "      <td>img10061</td>\n",
       "      <td>0.0</td>\n",
       "    </tr>\n",
       "    <tr>\n",
       "      <th>1</th>\n",
       "      <td>img00495</td>\n",
       "      <td>3.0</td>\n",
       "    </tr>\n",
       "    <tr>\n",
       "      <th>2</th>\n",
       "      <td>img06661</td>\n",
       "      <td>0.0</td>\n",
       "    </tr>\n",
       "    <tr>\n",
       "      <th>3</th>\n",
       "      <td>img15417</td>\n",
       "      <td>0.0</td>\n",
       "    </tr>\n",
       "    <tr>\n",
       "      <th>4</th>\n",
       "      <td>img13888</td>\n",
       "      <td>0.0</td>\n",
       "    </tr>\n",
       "  </tbody>\n",
       "</table>\n",
       "</div>"
      ],
      "text/plain": [
       "   image_id  DR_ICDR\n",
       "0  img10061      0.0\n",
       "1  img00495      3.0\n",
       "2  img06661      0.0\n",
       "3  img15417      0.0\n",
       "4  img13888      0.0"
      ]
     },
     "execution_count": 2,
     "metadata": {},
     "output_type": "execute_result"
    }
   ],
   "source": [
    "working_dir = os.getcwd()\n",
    "label_df = pd.read_csv(os.path.join(working_dir, \"data/BRSET/small_brazil_labels.csv\"))\n",
    "label_df = label_df[[\"image_id\", \"DR_ICDR\"]]\n",
    "print(\"Shape:\", label_df.shape)\n",
    "label_df.head()"
   ]
  },
  {
   "cell_type": "code",
   "execution_count": 4,
   "id": "6c317c46",
   "metadata": {},
   "outputs": [
    {
     "name": "stdout",
     "output_type": "stream",
     "text": [
      "Unique values: [0. 3. 4. 2. 1.]\n"
     ]
    }
   ],
   "source": [
    "print(\"Unique values:\", pd.unique(label_df.DR_ICDR))"
   ]
  },
  {
   "cell_type": "code",
   "execution_count": 5,
   "id": "43fc4a5e",
   "metadata": {},
   "outputs": [
    {
     "name": "stdout",
     "output_type": "stream",
     "text": [
      "train-val-test size: 2604 652 1396\n"
     ]
    }
   ],
   "source": [
    "label_train, label_test = train_test_split(label_df, stratify=label_df.DR_ICDR, test_size=0.3, random_state=0)\n",
    "label_train, label_val = train_test_split(label_train, stratify=label_train.DR_ICDR, test_size=0.2, random_state=0)\n",
    "\n",
    "print(\"train-val-test size:\", \n",
    "      label_train.shape[0],\n",
    "      label_val.shape[0], \n",
    "      label_test.shape[0])"
   ]
  },
  {
   "cell_type": "code",
   "execution_count": 6,
   "id": "2473372e",
   "metadata": {},
   "outputs": [
    {
     "name": "stdout",
     "output_type": "stream",
     "text": [
      "Train label percentage: [0.93202765 0.01036866 0.01958525 0.01228879 0.02572965]\n",
      "Validation label percentage: [0.93251534 0.0107362  0.01993865 0.01226994 0.02453988]\n",
      "Test label percentage: [0.93266476 0.01002865 0.02005731 0.01217765 0.02507163]\n"
     ]
    }
   ],
   "source": [
    "# check label distribution in train, val and test data\n",
    "_, brset_label_train_counts = np.unique(label_train.DR_ICDR, return_counts=True)\n",
    "print(\"Train label percentage:\", brset_label_train_counts / sum(brset_label_train_counts))\n",
    "\n",
    "_, brset_label_val_counts = np.unique(label_val.DR_ICDR, return_counts=True)\n",
    "print(\"Validation label percentage:\", brset_label_val_counts / sum(brset_label_val_counts))\n",
    "\n",
    "_, brset_label_test_counts = np.unique(label_test.DR_ICDR, return_counts=True)\n",
    "print(\"Test label percentage:\", brset_label_test_counts / sum(brset_label_test_counts))"
   ]
  },
  {
   "cell_type": "code",
   "execution_count": 7,
   "id": "37c8b6e5",
   "metadata": {},
   "outputs": [],
   "source": [
    "# save label_train.csv for computing train image mean & std\n",
    "label_train.to_csv(\"data/BRSET/small_brset_train_labels.csv\")"
   ]
  },
  {
   "cell_type": "markdown",
   "id": "a7fac166",
   "metadata": {},
   "source": [
    "### Separate images to train folder"
   ]
  },
  {
   "cell_type": "code",
   "execution_count": 8,
   "id": "2ccf5a04",
   "metadata": {},
   "outputs": [
    {
     "data": {
      "text/plain": [
       "2604"
      ]
     },
     "execution_count": 8,
     "metadata": {},
     "output_type": "execute_result"
    }
   ],
   "source": [
    "noDR_train = label_train.loc[label_train['DR_ICDR']==0, 'image_id']\n",
    "NPDR1_train = label_train.loc[label_train['DR_ICDR']==1, 'image_id']\n",
    "NPDR2_train = label_train.loc[label_train['DR_ICDR']==2, 'image_id']\n",
    "NPDR3_train = label_train.loc[label_train['DR_ICDR']==3, 'image_id']\n",
    "PDR_train = label_train.loc[label_train['DR_ICDR']==4, 'image_id']\n",
    "\n",
    "len(noDR_train) + len(NPDR1_train) + len(NPDR2_train) + len(NPDR3_train) + len(PDR_train)"
   ]
  },
  {
   "cell_type": "code",
   "execution_count": 9,
   "id": "5b39f944",
   "metadata": {},
   "outputs": [],
   "source": [
    "# for i in noDR_train:\n",
    "#     shutil.copy(os.path.join(working_dir, 'data/BRSET/images/{}.jpg'.format(i)), os.path.join(working_dir, 'data/BRSET/train/noDR/{}.png'.format(i)))\n",
    "    \n",
    "# for i in NPDR1_train:\n",
    "#     shutil.copy(os.path.join(working_dir, 'data/BRSET/images/{}.jpg'.format(i)), os.path.join(working_dir, 'data/BRSET/train/NPDR1/{}.png'.format(i)))\n",
    "\n",
    "# for i in NPDR2_train:\n",
    "#     shutil.copy(os.path.join(working_dir, 'data/BRSET/images/{}.jpg'.format(i)), os.path.join(working_dir, 'data/BRSET/train/NPDR2/{}.png'.format(i)))\n",
    "\n",
    "# for i in NPDR3_train:\n",
    "#     shutil.copy(os.path.join(working_dir, 'data/BRSET/images/{}.jpg'.format(i)), os.path.join(working_dir, 'data/BRSET/train/NPDR3/{}.png'.format(i)))\n",
    "   \n",
    "# for i in PDR_train:\n",
    "#     shutil.copy(os.path.join(working_dir, 'data/BRSET/images/{}.jpg'.format(i)), os.path.join(working_dir, 'data/BRSET/train/PDR/{}.png'.format(i)))\n"
   ]
  },
  {
   "cell_type": "code",
   "execution_count": 10,
   "metadata": {},
   "outputs": [
    {
     "name": "stdout",
     "output_type": "stream",
     "text": [
      "Train set size: 2604\n",
      "Train set w/o DR size: 2427\n",
      "Train set w NPDR1 size: 27\n",
      "Train set w NPDR2 size: 51\n",
      "Train set w NPDR3 size: 32\n",
      "Train set w PDR size: 67\n"
     ]
    }
   ],
   "source": [
    "# check number of images in train, val and test sets\n",
    "working_dir = os.getcwd()\n",
    "\n",
    "print(\"Train set size:\", \\\n",
    "    len(os.listdir(os.path.join(working_dir, \"data/BRSET/train/noDR/\"))) + \\\n",
    "    len(os.listdir(os.path.join(working_dir, \"data/BRSET/train/NPDR1/\"))) + \\\n",
    "    len(os.listdir(os.path.join(working_dir, \"data/BRSET/train/NPDR2/\"))) + \\\n",
    "    len(os.listdir(os.path.join(working_dir, \"data/BRSET/train/NPDR3/\"))) + \\\n",
    "    len(os.listdir(os.path.join(working_dir, \"data/BRSET/train/PDR/\"))))\n",
    "\n",
    "working_dir = os.getcwd()\n",
    "print(\"Train set w/o DR size:\", len(os.listdir(os.path.join(working_dir, \"data/BRSET/train/noDR/\"))))\n",
    "print(\"Train set w NPDR1 size:\", len(os.listdir(os.path.join(working_dir, \"data/BRSET/train/NPDR1/\"))))\n",
    "print(\"Train set w NPDR2 size:\", len(os.listdir(os.path.join(working_dir, \"data/BRSET/train/NPDR2/\"))))\n",
    "print(\"Train set w NPDR3 size:\", len(os.listdir(os.path.join(working_dir, \"data/BRSET/train/NPDR3/\"))))\n",
    "print(\"Train set w PDR size:\", len(os.listdir(os.path.join(working_dir, \"data/BRSET/train/PDR/\"))))"
   ]
  },
  {
   "cell_type": "markdown",
   "id": "050457a8",
   "metadata": {},
   "source": [
    "### Separate images to val folder"
   ]
  },
  {
   "cell_type": "code",
   "execution_count": 11,
   "id": "6e6bfc02",
   "metadata": {},
   "outputs": [
    {
     "data": {
      "text/plain": [
       "652"
      ]
     },
     "execution_count": 11,
     "metadata": {},
     "output_type": "execute_result"
    }
   ],
   "source": [
    "noDR_val = label_val.loc[label_val['DR_ICDR']==0, 'image_id']\n",
    "NPDR1_val = label_val.loc[label_val['DR_ICDR']==1, 'image_id']\n",
    "NPDR2_val = label_val.loc[label_val['DR_ICDR']==2, 'image_id']\n",
    "NPDR3_val = label_val.loc[label_val['DR_ICDR']==3, 'image_id']\n",
    "PDR_val = label_val.loc[label_val['DR_ICDR']==4, 'image_id']\n",
    "\n",
    "len(noDR_val) + len(NPDR1_val) + len(NPDR2_val) + len(NPDR3_val) + len(PDR_val)"
   ]
  },
  {
   "cell_type": "code",
   "execution_count": 12,
   "id": "74de6583",
   "metadata": {},
   "outputs": [],
   "source": [
    "for i in noDR_val:\n",
    "    shutil.copy(os.path.join(working_dir, 'data/BRSET/images/{}.jpg'.format(i)), os.path.join(working_dir, 'data/BRSET/val/noDR/{}.png'.format(i)))\n",
    "    \n",
    "for i in NPDR1_val:\n",
    "    shutil.copy(os.path.join(working_dir, 'data/BRSET/images/{}.jpg'.format(i)), os.path.join(working_dir, 'data/BRSET/val/NPDR1/{}.png'.format(i)))\n",
    "\n",
    "for i in NPDR2_val:\n",
    "    shutil.copy(os.path.join(working_dir, 'data/BRSET/images/{}.jpg'.format(i)), os.path.join(working_dir, 'data/BRSET/val/NPDR2/{}.png'.format(i)))\n",
    "\n",
    "for i in NPDR3_val:\n",
    "    shutil.copy(os.path.join(working_dir, 'data/BRSET/images/{}.jpg'.format(i)), os.path.join(working_dir, 'data/BRSET/val/NPDR3/{}.png'.format(i)))\n",
    "   \n",
    "for i in PDR_val:\n",
    "    shutil.copy(os.path.join(working_dir, 'data/BRSET/images/{}.jpg'.format(i)), os.path.join(working_dir, 'data/BRSET/val/PDR/{}.png'.format(i)))\n"
   ]
  },
  {
   "cell_type": "code",
   "execution_count": 13,
   "metadata": {},
   "outputs": [
    {
     "name": "stdout",
     "output_type": "stream",
     "text": [
      "Validation set size: 652\n",
      "Validation set w/o DR size: 608\n",
      "Validation set w NPDR1 size: 7\n",
      "Validation set w NPDR2 size: 13\n",
      "Validation set w NPDR3 size: 8\n",
      "Validation set w PDR size: 16\n"
     ]
    }
   ],
   "source": [
    "# check number of images in train, val and test sets\n",
    "working_dir = os.getcwd()\n",
    "\n",
    "print(\"Validation set size:\", \\\n",
    "    len(os.listdir(os.path.join(working_dir, \"data/BRSET/val/noDR/\"))) + \\\n",
    "    len(os.listdir(os.path.join(working_dir, \"data/BRSET/val/NPDR1/\"))) + \\\n",
    "    len(os.listdir(os.path.join(working_dir, \"data/BRSET/val/NPDR2/\"))) + \\\n",
    "    len(os.listdir(os.path.join(working_dir, \"data/BRSET/val/NPDR3/\"))) + \\\n",
    "    len(os.listdir(os.path.join(working_dir, \"data/BRSET/val/PDR/\"))))\n",
    "\n",
    "working_dir = os.getcwd()\n",
    "print(\"Validation set w/o DR size:\", len(os.listdir(os.path.join(working_dir, \"data/BRSET/val/noDR/\"))))\n",
    "print(\"Validation set w NPDR1 size:\", len(os.listdir(os.path.join(working_dir, \"data/BRSET/val/NPDR1/\"))))\n",
    "print(\"Validation set w NPDR2 size:\", len(os.listdir(os.path.join(working_dir, \"data/BRSET/val/NPDR2/\"))))\n",
    "print(\"Validation set w NPDR3 size:\", len(os.listdir(os.path.join(working_dir, \"data/BRSET/val/NPDR3/\"))))\n",
    "print(\"Validation set w PDR size:\", len(os.listdir(os.path.join(working_dir, \"data/BRSET/val/PDR/\"))))"
   ]
  },
  {
   "cell_type": "markdown",
   "id": "0e99bd4c",
   "metadata": {},
   "source": [
    "### Separate images to test folder"
   ]
  },
  {
   "cell_type": "code",
   "execution_count": 8,
   "id": "71def094",
   "metadata": {},
   "outputs": [
    {
     "data": {
      "text/plain": [
       "1396"
      ]
     },
     "execution_count": 8,
     "metadata": {},
     "output_type": "execute_result"
    }
   ],
   "source": [
    "noDR_test = label_test.loc[label_test['DR_ICDR']==0, 'image_id']\n",
    "NPDR1_test = label_test.loc[label_test['DR_ICDR']==1, 'image_id']\n",
    "NPDR2_test = label_test.loc[label_test['DR_ICDR']==2, 'image_id']\n",
    "NPDR3_test = label_test.loc[label_test['DR_ICDR']==3, 'image_id']\n",
    "PDR_test = label_test.loc[label_test['DR_ICDR']==4, 'image_id']\n",
    "\n",
    "len(noDR_test) + len(NPDR1_test) + len(NPDR2_test) + len(NPDR3_test) + len(PDR_test)"
   ]
  },
  {
   "cell_type": "code",
   "execution_count": 9,
   "id": "11e7cde6",
   "metadata": {},
   "outputs": [],
   "source": [
    "# for i in noDR_test:\n",
    "#     shutil.copy(os.path.join(working_dir, 'data/BRSET/images/{}.jpg'.format(i)), os.path.join(working_dir, 'data/BRSET/test/noDR/{}.png'.format(i)))\n",
    "    \n",
    "# for i in NPDR1_test:\n",
    "#     shutil.copy(os.path.join(working_dir, 'data/BRSET/images/{}.jpg'.format(i)), os.path.join(working_dir, 'data/BRSET/test/NPDR1/{}.png'.format(i)))\n",
    "\n",
    "# for i in NPDR2_test:\n",
    "#     shutil.copy(os.path.join(working_dir, 'data/BRSET/images/{}.jpg'.format(i)), os.path.join(working_dir, 'data/BRSET/test/NPDR2/{}.png'.format(i)))\n",
    "\n",
    "# for i in NPDR3_test:\n",
    "#     shutil.copy(os.path.join(working_dir, 'data/BRSET/images/{}.jpg'.format(i)), os.path.join(working_dir, 'data/BRSET/test/NPDR3/{}.png'.format(i)))\n",
    "   \n",
    "# for i in PDR_test:\n",
    "#     shutil.copy(os.path.join(working_dir, 'data/BRSET/images/{}.jpg'.format(i)), os.path.join(working_dir, 'data/BRSET/test/PDR/{}.png'.format(i)))\n"
   ]
  },
  {
   "cell_type": "code",
   "execution_count": 7,
   "id": "6d6fa82b",
   "metadata": {},
   "outputs": [
    {
     "name": "stdout",
     "output_type": "stream",
     "text": [
      "Test set size: 1396\n",
      "Test set w/o DR size: 1302\n",
      "Test set w NPDR1 size: 14\n",
      "Test set w NPDR2 size: 28\n",
      "Test set w NPDR3 size: 17\n",
      "Test set w PDR size: 35\n"
     ]
    }
   ],
   "source": [
    "# check number of images in train, val and test sets\n",
    "working_dir = os.getcwd()\n",
    "\n",
    "print(\"Test set size:\", \\\n",
    "    len(os.listdir(os.path.join(working_dir, \"data/BRSET/test/noDR/\"))) + \\\n",
    "    len(os.listdir(os.path.join(working_dir, \"data/BRSET/test/NPDR1/\"))) + \\\n",
    "    len(os.listdir(os.path.join(working_dir, \"data/BRSET/test/NPDR2/\"))) + \\\n",
    "    len(os.listdir(os.path.join(working_dir, \"data/BRSET/test/NPDR3/\"))) + \\\n",
    "    len(os.listdir(os.path.join(working_dir, \"data/BRSET/test/PDR/\"))))\n",
    "\n",
    "working_dir = os.getcwd()\n",
    "print(\"Test set w/o DR size:\", len(os.listdir(os.path.join(working_dir, \"data/BRSET/test/noDR/\"))))\n",
    "print(\"Test set w NPDR1 size:\", len(os.listdir(os.path.join(working_dir, \"data/BRSET/test/NPDR1/\"))))\n",
    "print(\"Test set w NPDR2 size:\", len(os.listdir(os.path.join(working_dir, \"data/BRSET/test/NPDR2/\"))))\n",
    "print(\"Test set w NPDR3 size:\", len(os.listdir(os.path.join(working_dir, \"data/BRSET/test/NPDR3/\"))))\n",
    "print(\"Test set w PDR size:\", len(os.listdir(os.path.join(working_dir, \"data/BRSET/test/PDR/\"))))"
   ]
  },
  {
   "cell_type": "markdown",
   "id": "eb0c7706",
   "metadata": {},
   "source": [
    "### Compute mean image color"
   ]
  },
  {
   "cell_type": "code",
   "execution_count": 9,
   "id": "6b8649ef",
   "metadata": {},
   "outputs": [
    {
     "name": "stderr",
     "output_type": "stream",
     "text": [
      "  0%|          | 0/2604 [00:00<?, ?it/s]\n"
     ]
    },
    {
     "ename": "NameError",
     "evalue": "name 'TF' is not defined",
     "output_type": "error",
     "traceback": [
      "\u001b[0;31m---------------------------------------------------------------------------\u001b[0m",
      "\u001b[0;31mNameError\u001b[0m                                 Traceback (most recent call last)",
      "\u001b[1;32m/home/opc/Documents/GitHub/RETFound_MAE/Example_brset_classes5.ipynb Cell 23\u001b[0m line \u001b[0;36m<cell line: 5>\u001b[0;34m()\u001b[0m\n\u001b[1;32m      <a href='vscode-notebook-cell://ssh-remote%2B7b22686f73744e616d65223a224f7261636c65227d/home/opc/Documents/GitHub/RETFound_MAE/Example_brset_classes5.ipynb#X31sdnNjb2RlLXJlbW90ZQ%3D%3D?line=4'>5</a>\u001b[0m \u001b[39mfor\u001b[39;00m image_name \u001b[39min\u001b[39;00m tqdm(label_train\u001b[39m.\u001b[39mimage_id):\n\u001b[1;32m      <a href='vscode-notebook-cell://ssh-remote%2B7b22686f73744e616d65223a224f7261636c65227d/home/opc/Documents/GitHub/RETFound_MAE/Example_brset_classes5.ipynb#X31sdnNjb2RlLXJlbW90ZQ%3D%3D?line=5'>6</a>\u001b[0m     img_path \u001b[39m=\u001b[39m os\u001b[39m.\u001b[39mpath\u001b[39m.\u001b[39mjoin(working_dir, \u001b[39m\"\u001b[39m\u001b[39mdata/BRSET/images/\u001b[39m\u001b[39m\"\u001b[39m, image_name \u001b[39m+\u001b[39m \u001b[39m\"\u001b[39m\u001b[39m.jpg\u001b[39m\u001b[39m\"\u001b[39m)\n\u001b[0;32m----> <a href='vscode-notebook-cell://ssh-remote%2B7b22686f73744e616d65223a224f7261636c65227d/home/opc/Documents/GitHub/RETFound_MAE/Example_brset_classes5.ipynb#X31sdnNjb2RlLXJlbW90ZQ%3D%3D?line=6'>7</a>\u001b[0m     img \u001b[39m=\u001b[39m TF\u001b[39m.\u001b[39mto_tensor(Image\u001b[39m.\u001b[39mopen(img_path))\n\u001b[1;32m      <a href='vscode-notebook-cell://ssh-remote%2B7b22686f73744e616d65223a224f7261636c65227d/home/opc/Documents/GitHub/RETFound_MAE/Example_brset_classes5.ipynb#X31sdnNjb2RlLXJlbW90ZQ%3D%3D?line=7'>8</a>\u001b[0m     image_mean \u001b[39m+\u001b[39m\u001b[39m=\u001b[39m torch\u001b[39m.\u001b[39mmean(img, dim\u001b[39m=\u001b[39m(\u001b[39m1\u001b[39m, \u001b[39m2\u001b[39m))\n\u001b[1;32m      <a href='vscode-notebook-cell://ssh-remote%2B7b22686f73744e616d65223a224f7261636c65227d/home/opc/Documents/GitHub/RETFound_MAE/Example_brset_classes5.ipynb#X31sdnNjb2RlLXJlbW90ZQ%3D%3D?line=8'>9</a>\u001b[0m     image_std \u001b[39m+\u001b[39m\u001b[39m=\u001b[39m torch\u001b[39m.\u001b[39mstd(img, dim\u001b[39m=\u001b[39m(\u001b[39m1\u001b[39m, \u001b[39m2\u001b[39m))\n",
      "\u001b[0;31mNameError\u001b[0m: name 'TF' is not defined"
     ]
    }
   ],
   "source": [
    "from tqdm import tqdm\n",
    "\n",
    "image_mean = 0\n",
    "image_std = 0\n",
    "for image_name in tqdm(label_train.image_id):\n",
    "    img_path = os.path.join(working_dir, \"data/BRSET/images/\", image_name + \".jpg\")\n",
    "    img = TF.to_tensor(Image.open(img_path))\n",
    "    image_mean += torch.mean(img, dim=(1, 2))\n",
    "    image_std += torch.std(img, dim=(1, 2))"
   ]
  },
  {
   "cell_type": "code",
   "execution_count": null,
   "id": "41bf759b",
   "metadata": {},
   "outputs": [],
   "source": [
    "image_mean = image_mean / label_train.shape[0]\n",
    "image_std = image_std / label_train.shape[0]\n",
    "\n",
    "print(\"BRSET image means are:\", image_mean)\n",
    "print(\"BRSET image stds are:\", image_std)"
   ]
  },
  {
   "cell_type": "code",
   "execution_count": null,
   "id": "32f048cd",
   "metadata": {},
   "outputs": [],
   "source": [
    "messidor_img_mean = torch.tensor([0.2859, 0.1341, 0.0471])\n",
    "messidor_img_std = torch.tensor([0.3263, 0.1568, 0.0613])"
   ]
  },
  {
   "cell_type": "code",
   "execution_count": null,
   "id": "32379435",
   "metadata": {},
   "outputs": [],
   "source": [
    "avg_img_mean = (image_mean + messidor_img_mean) / 2\n",
    "avg_img_std = (image_std + messidor_img_std) / 2\n",
    "print(\"Avg mean:\", avg_img_mean)\n",
    "print(\"Avg std:\", avg_img_std)"
   ]
  }
 ],
 "metadata": {
  "environment": {
   "kernel": "python3",
   "name": "common-cu110.m91",
   "type": "gcloud",
   "uri": "gcr.io/deeplearning-platform-release/base-cu110:m91"
  },
  "kernelspec": {
   "display_name": "Python 3",
   "language": "python",
   "name": "python3"
  },
  "language_info": {
   "codemirror_mode": {
    "name": "ipython",
    "version": 3
   },
   "file_extension": ".py",
   "mimetype": "text/x-python",
   "name": "python",
   "nbconvert_exporter": "python",
   "pygments_lexer": "ipython3",
   "version": "3.9.12"
  }
 },
 "nbformat": 4,
 "nbformat_minor": 5
}
