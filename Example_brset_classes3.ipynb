{
 "cells": [
  {
   "cell_type": "markdown",
   "id": "b2e049c7-d5db-45e6-b651-2601c02f4b7d",
   "metadata": {},
   "source": [
    "## Data organisation example - BRSET"
   ]
  },
  {
   "cell_type": "code",
   "execution_count": 1,
   "id": "16b65740-249b-4eef-9298-1db01f72d050",
   "metadata": {},
   "outputs": [],
   "source": [
    "import os\n",
    "import shutil\n",
    "import pandas as pd\n",
    "import numpy as np\n",
    "from sklearn.model_selection import train_test_split"
   ]
  },
  {
   "cell_type": "markdown",
   "id": "04b08210",
   "metadata": {},
   "source": [
    "### Preprocess label_df"
   ]
  },
  {
   "cell_type": "code",
   "execution_count": 2,
   "id": "73d2d204",
   "metadata": {},
   "outputs": [
    {
     "name": "stdout",
     "output_type": "stream",
     "text": [
      "Shape: (16266, 2)\n"
     ]
    },
    {
     "data": {
      "text/html": [
       "<div>\n",
       "<style scoped>\n",
       "    .dataframe tbody tr th:only-of-type {\n",
       "        vertical-align: middle;\n",
       "    }\n",
       "\n",
       "    .dataframe tbody tr th {\n",
       "        vertical-align: top;\n",
       "    }\n",
       "\n",
       "    .dataframe thead th {\n",
       "        text-align: right;\n",
       "    }\n",
       "</style>\n",
       "<table border=\"1\" class=\"dataframe\">\n",
       "  <thead>\n",
       "    <tr style=\"text-align: right;\">\n",
       "      <th></th>\n",
       "      <th>image_id</th>\n",
       "      <th>DR_ICDR</th>\n",
       "    </tr>\n",
       "  </thead>\n",
       "  <tbody>\n",
       "    <tr>\n",
       "      <th>0</th>\n",
       "      <td>img00001</td>\n",
       "      <td>0</td>\n",
       "    </tr>\n",
       "    <tr>\n",
       "      <th>1</th>\n",
       "      <td>img00002</td>\n",
       "      <td>0</td>\n",
       "    </tr>\n",
       "    <tr>\n",
       "      <th>2</th>\n",
       "      <td>img00003</td>\n",
       "      <td>0</td>\n",
       "    </tr>\n",
       "    <tr>\n",
       "      <th>3</th>\n",
       "      <td>img00004</td>\n",
       "      <td>0</td>\n",
       "    </tr>\n",
       "    <tr>\n",
       "      <th>4</th>\n",
       "      <td>img00005</td>\n",
       "      <td>0</td>\n",
       "    </tr>\n",
       "  </tbody>\n",
       "</table>\n",
       "</div>"
      ],
      "text/plain": [
       "   image_id  DR_ICDR\n",
       "0  img00001        0\n",
       "1  img00002        0\n",
       "2  img00003        0\n",
       "3  img00004        0\n",
       "4  img00005        0"
      ]
     },
     "execution_count": 2,
     "metadata": {},
     "output_type": "execute_result"
    }
   ],
   "source": [
    "working_dir = os.getcwd()\n",
    "label_df = pd.read_csv(os.path.join(working_dir, \"data/BRSET/labels.csv\"))\n",
    "label_df = label_df[[\"image_id\", \"DR_ICDR\"]]\n",
    "print(\"Shape:\", label_df.shape)\n",
    "label_df.head()"
   ]
  },
  {
   "cell_type": "code",
   "execution_count": 3,
   "id": "6c317c46",
   "metadata": {},
   "outputs": [
    {
     "name": "stdout",
     "output_type": "stream",
     "text": [
      "Unique values: [0 1 2]\n"
     ]
    }
   ],
   "source": [
    "label_df.loc[label_df.DR_ICDR == 2, \"DR_ICDR\"] = 1\n",
    "label_df.loc[label_df.DR_ICDR == 3, \"DR_ICDR\"] = 1\n",
    "label_df.loc[label_df.DR_ICDR == 4, \"DR_ICDR\"] = 2\n",
    "\n",
    "print(\"Unique values:\", pd.unique(label_df.DR_ICDR))"
   ]
  },
  {
   "cell_type": "code",
   "execution_count": 4,
   "id": "5a03441c",
   "metadata": {},
   "outputs": [
    {
     "name": "stdout",
     "output_type": "stream",
     "text": [
      "train-test size: 11386 4880\n"
     ]
    }
   ],
   "source": [
    "split_DR3class = pd.read_csv(\"/home/opc/Documents/GitHub/RETFound_MAE/data/BRSET/retfound_split_DR3class.csv\").iloc[:, 1:]\n",
    "train_indices = split_DR3class[\"index\"][split_DR3class.split==\"Train\"]\n",
    "test_indices = split_DR3class[\"index\"][split_DR3class.split==\"Test\"]\n",
    "\n",
    "label_train = label_df.iloc[train_indices, :]\n",
    "label_test = label_df.iloc[test_indices, :]\n",
    "\n",
    "print(\"train-test size:\", \n",
    "      label_train.shape[0],\n",
    "      label_test.shape[0])"
   ]
  },
  {
   "cell_type": "code",
   "execution_count": 5,
   "id": "a8d78b69",
   "metadata": {},
   "outputs": [
    {
     "name": "stdout",
     "output_type": "stream",
     "text": [
      "train-val-test size: 11386 732 4148\n"
     ]
    }
   ],
   "source": [
    "label_test, label_val = train_test_split(label_test, stratify=label_test.DR_ICDR, test_size=0.15, random_state=42)\n",
    "\n",
    "print(\"train-val-test size:\", \n",
    "      label_train.shape[0],\n",
    "      label_val.shape[0], \n",
    "      label_test.shape[0])"
   ]
  },
  {
   "cell_type": "code",
   "execution_count": 12,
   "id": "43fc4a5e",
   "metadata": {},
   "outputs": [
    {
     "name": "stdout",
     "output_type": "stream",
     "text": [
      "train-val-test size: 10409 2603 3254\n"
     ]
    }
   ],
   "source": [
    "# label_train, label_test = train_test_split(label_df, stratify=label_df.DR_ICDR, test_size=0.3, random_state=0)\n",
    "# label_train, label_val = train_test_split(label_train, stratify=label_train.DR_ICDR, test_size=0.2, random_state=0)\n",
    "\n",
    "# print(\"train-val-test size:\", \n",
    "#       label_train.shape[0],\n",
    "#       label_val.shape[0], \n",
    "#       label_test.shape[0])"
   ]
  },
  {
   "cell_type": "code",
   "execution_count": 6,
   "id": "2473372e",
   "metadata": {},
   "outputs": [
    {
     "name": "stdout",
     "output_type": "stream",
     "text": [
      "Train label percentage: [0.9336905  0.04198138 0.02432812]\n",
      "Validation label percentage: [0.93852459 0.03825137 0.02322404]\n",
      "Test label percentage: [0.93828351 0.03760849 0.024108  ]\n"
     ]
    }
   ],
   "source": [
    "# check label distribution in train, val and test data\n",
    "_, brset_label_train_counts = np.unique(label_train.DR_ICDR, return_counts=True)\n",
    "print(\"Train label percentage:\", brset_label_train_counts / sum(brset_label_train_counts))\n",
    "\n",
    "_, brset_label_val_counts = np.unique(label_val.DR_ICDR, return_counts=True)\n",
    "print(\"Validation label percentage:\", brset_label_val_counts / sum(brset_label_val_counts))\n",
    "\n",
    "_, brset_label_test_counts = np.unique(label_test.DR_ICDR, return_counts=True)\n",
    "print(\"Test label percentage:\", brset_label_test_counts / sum(brset_label_test_counts))"
   ]
  },
  {
   "cell_type": "markdown",
   "id": "d02b725d",
   "metadata": {},
   "source": [
    "### Separate images to train folder"
   ]
  },
  {
   "cell_type": "code",
   "execution_count": 7,
   "id": "24b018dd",
   "metadata": {},
   "outputs": [
    {
     "data": {
      "text/plain": [
       "11386"
      ]
     },
     "execution_count": 7,
     "metadata": {},
     "output_type": "execute_result"
    }
   ],
   "source": [
    "noDR_train = label_train.loc[label_train['DR_ICDR']==0, 'image_id']\n",
    "NPDR_train = label_train.loc[label_train['DR_ICDR']==1, 'image_id']\n",
    "PDR_train = label_train.loc[label_train['DR_ICDR']==2, 'image_id']\n",
    "len(noDR_train) + len(NPDR_train) + len(PDR_train)"
   ]
  },
  {
   "cell_type": "code",
   "execution_count": 9,
   "id": "e3a73af8",
   "metadata": {},
   "outputs": [],
   "source": [
    "for i in noDR_train:\n",
    "    shutil.copy(os.path.join(working_dir, 'data/BRSET/images/{}.jpg'.format(i)), os.path.join(working_dir, 'data/BRSET/train/noDR/{}.png'.format(i)))\n",
    "    \n",
    "for i in NPDR_train:\n",
    "    shutil.copy(os.path.join(working_dir, 'data/BRSET/images/{}.jpg'.format(i)), os.path.join(working_dir, 'data/BRSET/train/NPDR/{}.png'.format(i)))\n",
    "    \n",
    "for i in PDR_train:\n",
    "    shutil.copy(os.path.join(working_dir, 'data/BRSET/images/{}.jpg'.format(i)), os.path.join(working_dir, 'data/BRSET/train/PDR/{}.png'.format(i)))\n"
   ]
  },
  {
   "cell_type": "code",
   "execution_count": 10,
   "id": "a6ed4b4f",
   "metadata": {},
   "outputs": [
    {
     "name": "stdout",
     "output_type": "stream",
     "text": [
      "Train set w/o DR size: 10631\n",
      "Train set w NPDR size: 478\n",
      "Train set w PDR size: 277\n"
     ]
    }
   ],
   "source": [
    "working_dir = os.getcwd()\n",
    "print(\"Train set w/o DR size:\", len(os.listdir(os.path.join(working_dir, \"data/BRSET/train/noDR/\"))))\n",
    "print(\"Train set w NPDR size:\", len(os.listdir(os.path.join(working_dir, \"data/BRSET/train/NPDR/\"))))\n",
    "print(\"Train set w PDR size:\", len(os.listdir(os.path.join(working_dir, \"data/BRSET/train/PDR/\"))))"
   ]
  },
  {
   "cell_type": "markdown",
   "id": "49fbf7a3",
   "metadata": {},
   "source": [
    "### Separate images to validation folder"
   ]
  },
  {
   "cell_type": "code",
   "execution_count": 11,
   "id": "26a93bc4",
   "metadata": {},
   "outputs": [
    {
     "data": {
      "text/plain": [
       "732"
      ]
     },
     "execution_count": 11,
     "metadata": {},
     "output_type": "execute_result"
    }
   ],
   "source": [
    "noDR_val = label_val.loc[label_val['DR_ICDR']==0, 'image_id']\n",
    "NPDR_val = label_val.loc[label_val['DR_ICDR']==1, 'image_id']\n",
    "PDR_val = label_val.loc[label_val['DR_ICDR']==2, 'image_id']\n",
    "len(noDR_val) + len(NPDR_val) + len(PDR_val)"
   ]
  },
  {
   "cell_type": "code",
   "execution_count": 12,
   "id": "d98253d2",
   "metadata": {},
   "outputs": [],
   "source": [
    "for i in noDR_val:\n",
    "    shutil.copy(os.path.join(working_dir, 'data/BRSET/images/{}.jpg'.format(i)), os.path.join(working_dir, 'data/BRSET/val/noDR/{}.png'.format(i)))\n",
    "    \n",
    "for i in NPDR_val:\n",
    "    shutil.copy(os.path.join(working_dir, 'data/BRSET/images/{}.jpg'.format(i)), os.path.join(working_dir, 'data/BRSET/val/NPDR/{}.png'.format(i)))\n",
    "    \n",
    "for i in PDR_val:\n",
    "    shutil.copy(os.path.join(working_dir, 'data/BRSET/images/{}.jpg'.format(i)), os.path.join(working_dir, 'data/BRSET/val/PDR/{}.png'.format(i)))\n"
   ]
  },
  {
   "cell_type": "code",
   "execution_count": 13,
   "id": "61c081a6",
   "metadata": {},
   "outputs": [
    {
     "name": "stdout",
     "output_type": "stream",
     "text": [
      "Validation set w/o DR size: 687\n",
      "Validation set w NPDR size: 28\n",
      "Validation set w PDR size: 17\n"
     ]
    }
   ],
   "source": [
    "working_dir = os.getcwd()\n",
    "print(\"Validation set w/o DR size:\", len(os.listdir(os.path.join(working_dir, \"data/BRSET/val/noDR/\"))))\n",
    "print(\"Validation set w NPDR size:\", len(os.listdir(os.path.join(working_dir, \"data/BRSET/val/NPDR/\"))))\n",
    "print(\"Validation set w PDR size:\", len(os.listdir(os.path.join(working_dir, \"data/BRSET/val/PDR/\"))))"
   ]
  },
  {
   "cell_type": "markdown",
   "id": "a7fac166",
   "metadata": {},
   "source": [
    "### Separate images to test folder"
   ]
  },
  {
   "cell_type": "code",
   "execution_count": 14,
   "id": "71def094",
   "metadata": {},
   "outputs": [
    {
     "data": {
      "text/plain": [
       "4148"
      ]
     },
     "execution_count": 14,
     "metadata": {},
     "output_type": "execute_result"
    }
   ],
   "source": [
    "noDR_test = label_test.loc[label_test['DR_ICDR']==0, 'image_id']\n",
    "NPDR_test = label_test.loc[label_test['DR_ICDR']==1, 'image_id']\n",
    "PDR_test = label_test.loc[label_test['DR_ICDR']==2, 'image_id']\n",
    "len(noDR_test) + len(NPDR_test) + len(PDR_test)"
   ]
  },
  {
   "cell_type": "code",
   "execution_count": 15,
   "id": "11e7cde6",
   "metadata": {},
   "outputs": [],
   "source": [
    "for i in noDR_test:\n",
    "    shutil.copy(os.path.join(working_dir, 'data/BRSET/images/{}.jpg'.format(i)), os.path.join(working_dir, 'data/BRSET/test/noDR/{}.png'.format(i)))\n",
    "    \n",
    "for i in NPDR_test:\n",
    "    shutil.copy(os.path.join(working_dir, 'data/BRSET/images/{}.jpg'.format(i)), os.path.join(working_dir, 'data/BRSET/test/NPDR/{}.png'.format(i)))\n",
    "    \n",
    "for i in PDR_test:\n",
    "    shutil.copy(os.path.join(working_dir, 'data/BRSET/images/{}.jpg'.format(i)), os.path.join(working_dir, 'data/BRSET/test/PDR/{}.png'.format(i)))\n"
   ]
  },
  {
   "cell_type": "code",
   "execution_count": 16,
   "id": "01f64956",
   "metadata": {},
   "outputs": [
    {
     "name": "stdout",
     "output_type": "stream",
     "text": [
      "Test set w/o DR size: 3892\n",
      "Test set w NPDR size: 156\n",
      "Test set w PDR size: 100\n"
     ]
    }
   ],
   "source": [
    "working_dir = os.getcwd()\n",
    "print(\"Test set w/o DR size:\", len(os.listdir(os.path.join(working_dir, \"data/BRSET/test/noDR/\"))))\n",
    "print(\"Test set w NPDR size:\", len(os.listdir(os.path.join(working_dir, \"data/BRSET/test/NPDR/\"))))\n",
    "print(\"Test set w PDR size:\", len(os.listdir(os.path.join(working_dir, \"data/BRSET/test/PDR/\"))))"
   ]
  },
  {
   "cell_type": "code",
   "execution_count": 17,
   "id": "6d6fa82b",
   "metadata": {},
   "outputs": [
    {
     "name": "stdout",
     "output_type": "stream",
     "text": [
      "Train set size: 11386\n",
      "Validation set size: 732\n",
      "Test set size: 4148\n"
     ]
    }
   ],
   "source": [
    "# check number of images in train, val and test sets\n",
    "working_dir = os.getcwd()\n",
    "print(\"Train set size:\", \\\n",
    "    len(os.listdir(os.path.join(working_dir, \"data/BRSET/train/noDR/\"))) + \\\n",
    "    len(os.listdir(os.path.join(working_dir, \"data/BRSET/train/NPDR/\"))) + \\\n",
    "    len(os.listdir(os.path.join(working_dir, \"data/BRSET/train/PDR/\"))))\n",
    "\n",
    "print(\"Validation set size:\", \\\n",
    "    len(os.listdir(os.path.join(working_dir, \"data/BRSET/val/noDR/\"))) + \\\n",
    "    len(os.listdir(os.path.join(working_dir, \"data/BRSET/val/NPDR/\"))) + \\\n",
    "    len(os.listdir(os.path.join(working_dir, \"data/BRSET/val/PDR/\"))))\n",
    "\n",
    "print(\"Test set size:\", \\\n",
    "    len(os.listdir(os.path.join(working_dir, \"data/BRSET/test/noDR/\"))) + \\\n",
    "    len(os.listdir(os.path.join(working_dir, \"data/BRSET/test/NPDR/\"))) + \\\n",
    "    len(os.listdir(os.path.join(working_dir, \"data/BRSET/test/PDR/\"))))"
   ]
  }
 ],
 "metadata": {
  "environment": {
   "kernel": "python3",
   "name": "common-cu110.m91",
   "type": "gcloud",
   "uri": "gcr.io/deeplearning-platform-release/base-cu110:m91"
  },
  "kernelspec": {
   "display_name": "Python 3",
   "language": "python",
   "name": "python3"
  },
  "language_info": {
   "codemirror_mode": {
    "name": "ipython",
    "version": 3
   },
   "file_extension": ".py",
   "mimetype": "text/x-python",
   "name": "python",
   "nbconvert_exporter": "python",
   "pygments_lexer": "ipython3",
   "version": "3.11.5"
  }
 },
 "nbformat": 4,
 "nbformat_minor": 5
}
