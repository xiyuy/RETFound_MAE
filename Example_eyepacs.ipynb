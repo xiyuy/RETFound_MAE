{
 "cells": [
  {
   "cell_type": "markdown",
   "id": "b2e049c7-d5db-45e6-b651-2601c02f4b7d",
   "metadata": {},
   "source": [
    "## Data organisation example - EyePACS"
   ]
  },
  {
   "cell_type": "code",
   "execution_count": 1,
   "id": "16b65740-249b-4eef-9298-1db01f72d050",
   "metadata": {},
   "outputs": [],
   "source": [
    "import os\n",
    "import shutil\n",
    "import pandas as pd\n",
    "import numpy as np\n",
    "from sklearn.model_selection import train_test_split"
   ]
  },
  {
   "cell_type": "code",
   "execution_count": 2,
   "id": "535d6d51",
   "metadata": {},
   "outputs": [
    {
     "name": "stdout",
     "output_type": "stream",
     "text": [
      "Total eyepacs train images: 3513\n",
      "Total eyepacs test images: 5358\n"
     ]
    }
   ],
   "source": [
    "# count total images in messidor2 folder\n",
    "working_dir = os.getcwd()\n",
    "print(\"Total eyepacs train images:\", len(os.listdir(os.path.join(working_dir, \"data/EyePACS/images/train_small/\"))))\n",
    "print(\"Total eyepacs test images:\", len(os.listdir(os.path.join(working_dir, \"data/EyePACS/images/test_small/\"))))"
   ]
  },
  {
   "cell_type": "markdown",
   "id": "04b08210",
   "metadata": {},
   "source": [
    "## Preprocess label_df"
   ]
  },
  {
   "cell_type": "code",
   "execution_count": 3,
   "id": "73d2d204",
   "metadata": {},
   "outputs": [
    {
     "name": "stdout",
     "output_type": "stream",
     "text": [
      "Train Data Shape: (3513, 2)\n",
      "Test Data Shape: (5358, 2)\n",
      "Display train labels:\n",
      "         image  level\n",
      "0    6221_left      0\n",
      "1  32412_right      1\n",
      "2  24863_right      0\n",
      "3   18648_left      0\n",
      "4  16862_right      0\n",
      "Display test labels:\n",
      "         image  level\n",
      "0   18121_left      0\n",
      "1  32524_right      2\n",
      "2  18746_right      0\n",
      "3   33129_left      0\n",
      "4  15609_right      0\n"
     ]
    }
   ],
   "source": [
    "working_dir = os.getcwd()\n",
    "label_train = pd.read_csv(os.path.join(working_dir, \"data/EyePACS/train_small_Labels.csv\"))\n",
    "label_test = pd.read_csv(os.path.join(working_dir, \"data/EyePACS/test_small_Labels.csv\"))\n",
    "\n",
    "label_train = label_train[[\"image\", \"level\"]]\n",
    "label_test = label_test[[\"image\", \"level\"]]\n",
    "\n",
    "print(\"Train Data Shape:\", label_train.shape)\n",
    "print(\"Test Data Shape:\", label_test.shape)\n",
    "\n",
    "print(\"Display train labels:\")\n",
    "print(label_train.head())\n",
    "print(\"Display test labels:\")\n",
    "print(label_test.head())"
   ]
  },
  {
   "cell_type": "code",
   "execution_count": 4,
   "id": "6c317c46",
   "metadata": {},
   "outputs": [
    {
     "name": "stdout",
     "output_type": "stream",
     "text": [
      "Train data unique values: [0 1 2 3 4]\n",
      "Test data unique values: [0 2 1 4 3]\n"
     ]
    }
   ],
   "source": [
    "print(\"Train data unique values:\", pd.unique(label_train.level))\n",
    "print(\"Test data unique values:\", pd.unique(label_test.level))"
   ]
  },
  {
   "cell_type": "code",
   "execution_count": 5,
   "id": "43fc4a5e",
   "metadata": {},
   "outputs": [
    {
     "name": "stdout",
     "output_type": "stream",
     "text": [
      "train-val-test size: 2810 703 5358\n"
     ]
    }
   ],
   "source": [
    "# label_train, label_test = train_test_split(label_df, stratify=label_df.adjudicated_dr_grade, test_size=0.3, random_state=0)\n",
    "label_train, label_val = train_test_split(label_train, stratify=label_train.level, test_size=0.2, random_state=0)\n",
    "\n",
    "print(\"train-val-test size:\", \n",
    "      label_train.shape[0],\n",
    "      label_val.shape[0], \n",
    "      label_test.shape[0])"
   ]
  },
  {
   "cell_type": "code",
   "execution_count": 6,
   "id": "2473372e",
   "metadata": {},
   "outputs": [
    {
     "name": "stdout",
     "output_type": "stream",
     "text": [
      "Train label percentage: [0.73451957 0.06975089 0.15053381 0.02491103 0.0202847 ]\n",
      "Validation label percentage: [0.73541963 0.06970128 0.15078236 0.02418208 0.01991465]\n",
      "Test label percentage: [0.73796193 0.07017544 0.14669653 0.02258305 0.02258305]\n"
     ]
    }
   ],
   "source": [
    "# check label distribution in train, val and test data\n",
    "_, label_train_counts = np.unique(label_train.level, return_counts=True)\n",
    "print(\"Train label percentage:\", label_train_counts / sum(label_train_counts))\n",
    "\n",
    "_, label_val_counts = np.unique(label_val.level, return_counts=True)\n",
    "print(\"Validation label percentage:\", label_val_counts / sum(label_val_counts))\n",
    "\n",
    "_, label_test_counts = np.unique(label_test.level, return_counts=True)\n",
    "print(\"Test label percentage:\", label_test_counts / sum(label_test_counts))"
   ]
  },
  {
   "cell_type": "markdown",
   "id": "582d92c2",
   "metadata": {},
   "source": [
    "## Separate images to train folder"
   ]
  },
  {
   "cell_type": "code",
   "execution_count": 7,
   "id": "5e6e84f6",
   "metadata": {},
   "outputs": [
    {
     "data": {
      "text/plain": [
       "2810"
      ]
     },
     "execution_count": 7,
     "metadata": {},
     "output_type": "execute_result"
    }
   ],
   "source": [
    "noDR_train = label_train.loc[label_train['level']==0, 'image']\n",
    "NPDR1_train = label_train.loc[label_train['level']==1, 'image']\n",
    "NPDR2_train = label_train.loc[label_train['level']==2, 'image']\n",
    "NPDR3_train = label_train.loc[label_train['level']==3, 'image']\n",
    "PDR_train = label_train.loc[label_train['level']==4, 'image']\n",
    "len(noDR_train) + len(NPDR1_train) + len(NPDR2_train) + len(NPDR3_train) + len(PDR_train)"
   ]
  },
  {
   "cell_type": "code",
   "execution_count": 8,
   "id": "3cf866b8",
   "metadata": {},
   "outputs": [],
   "source": [
    "for i in noDR_train:\n",
    "    shutil.copy(os.path.join(working_dir, 'data/EyePACS/images/train_small/{}.jpeg'.format(i)), os.path.join(working_dir, 'data/EyePACS/train/noDR/{}.jpeg'.format(i)))\n",
    "    \n",
    "for i in NPDR1_train:\n",
    "    shutil.copy(os.path.join(working_dir, 'data/EyePACS/images/train_small/{}.jpeg'.format(i)), os.path.join(working_dir, 'data/EyePACS/train/NPDR1/{}.jpeg'.format(i)))\n",
    "    \n",
    "for i in NPDR2_train:\n",
    "    shutil.copy(os.path.join(working_dir, 'data/EyePACS/images/train_small/{}.jpeg'.format(i)), os.path.join(working_dir, 'data/EyePACS/train/NPDR2/{}.jpeg'.format(i)))\n",
    "\n",
    "for i in NPDR3_train:\n",
    "    shutil.copy(os.path.join(working_dir, 'data/EyePACS/images/train_small/{}.jpeg'.format(i)), os.path.join(working_dir, 'data/EyePACS/train/NPDR3/{}.jpeg'.format(i)))\n",
    "\n",
    "for i in PDR_train:\n",
    "    shutil.copy(os.path.join(working_dir, 'data/EyePACS/images/train_small/{}.jpeg'.format(i)), os.path.join(working_dir, 'data/EyePACS/train/PDR/{}.jpeg'.format(i)))\n"
   ]
  },
  {
   "cell_type": "code",
   "execution_count": 9,
   "id": "700bc10b",
   "metadata": {},
   "outputs": [
    {
     "name": "stdout",
     "output_type": "stream",
     "text": [
      "Train set size: 2810\n"
     ]
    }
   ],
   "source": [
    "# check number of images in train, val and test sets\n",
    "working_dir = os.getcwd()\n",
    "print(\"Train set size:\", \\\n",
    "    len(os.listdir(os.path.join(working_dir, \"data/EyePACS/train/noDR/\"))) + \\\n",
    "    len(os.listdir(os.path.join(working_dir, \"data/EyePACS/train/NPDR1/\"))) + \\\n",
    "    len(os.listdir(os.path.join(working_dir, \"data/EyePACS/train/NPDR2/\"))) + \\\n",
    "    len(os.listdir(os.path.join(working_dir, \"data/EyePACS/train/NPDR3/\"))) + \\\n",
    "    len(os.listdir(os.path.join(working_dir, \"data/EyePACS/train/PDR/\")))) "
   ]
  },
  {
   "cell_type": "code",
   "execution_count": 10,
   "metadata": {},
   "outputs": [
    {
     "name": "stdout",
     "output_type": "stream",
     "text": [
      "Train set w/o DR size: 2064\n",
      "Train set w NPDR1 size: 196\n",
      "Train set w NPDR2 size: 423\n",
      "Train set w NPDR3 size: 70\n",
      "Train set w PDR size: 57\n"
     ]
    }
   ],
   "source": [
    "working_dir = os.getcwd()\n",
    "print(\"Train set w/o DR size:\", len(os.listdir(os.path.join(working_dir, \"data/EyePACS/train/noDR/\"))))\n",
    "print(\"Train set w NPDR1 size:\", len(os.listdir(os.path.join(working_dir, \"data/EyePACS/train/NPDR1/\"))))\n",
    "print(\"Train set w NPDR2 size:\", len(os.listdir(os.path.join(working_dir, \"data/EyePACS/train/NPDR2/\"))))\n",
    "print(\"Train set w NPDR3 size:\", len(os.listdir(os.path.join(working_dir, \"data/EyePACS/train/NPDR3/\"))))\n",
    "print(\"Train set w PDR size:\", len(os.listdir(os.path.join(working_dir, \"data/EyePACS/train/PDR/\"))))"
   ]
  },
  {
   "cell_type": "markdown",
   "id": "896a65bc",
   "metadata": {},
   "source": [
    "## Separate images to validation folder"
   ]
  },
  {
   "cell_type": "code",
   "execution_count": 11,
   "id": "0e2ebbf3",
   "metadata": {},
   "outputs": [
    {
     "data": {
      "text/plain": [
       "703"
      ]
     },
     "execution_count": 11,
     "metadata": {},
     "output_type": "execute_result"
    }
   ],
   "source": [
    "noDR_val = label_val.loc[label_val['level']==0, 'image']\n",
    "NPDR1_val = label_val.loc[label_val['level']==1, 'image']\n",
    "NPDR2_val = label_val.loc[label_val['level']==2, 'image']\n",
    "NPDR3_val = label_val.loc[label_val['level']==3, 'image']\n",
    "PDR_val = label_val.loc[label_val['level']==4, 'image']\n",
    "len(noDR_val) + len(NPDR1_val) + len(NPDR2_val) + len(NPDR3_val) + len(PDR_val)"
   ]
  },
  {
   "cell_type": "code",
   "execution_count": 12,
   "id": "9ce8a1d5",
   "metadata": {},
   "outputs": [],
   "source": [
    "for i in noDR_val:\n",
    "    shutil.copy(os.path.join(working_dir, 'data/EyePACS/images/train_small/{}.jpeg'.format(i)), os.path.join(working_dir, 'data/EyePACS/val/noDR/{}.jpeg'.format(i)))\n",
    "   \n",
    "for i in NPDR1_val:\n",
    "    shutil.copy(os.path.join(working_dir, 'data/EyePACS/images/train_small/{}.jpeg'.format(i)), os.path.join(working_dir, 'data/EyePACS/val/NPDR1/{}.jpeg'.format(i)))\n",
    "    \n",
    "for i in NPDR2_val:\n",
    "    shutil.copy(os.path.join(working_dir, 'data/EyePACS/images/train_small/{}.jpeg'.format(i)), os.path.join(working_dir, 'data/EyePACS/val/NPDR2/{}.jpeg'.format(i)))\n",
    "\n",
    "for i in NPDR3_val:\n",
    "    shutil.copy(os.path.join(working_dir, 'data/EyePACS/images/train_small/{}.jpeg'.format(i)), os.path.join(working_dir, 'data/EyePACS/val/NPDR3/{}.jpeg'.format(i)))\n",
    "\n",
    "for i in PDR_val:\n",
    "    shutil.copy(os.path.join(working_dir, 'data/EyePACS/images/train_small/{}.jpeg'.format(i)), os.path.join(working_dir, 'data/EyePACS/val/PDR/{}.jpeg'.format(i)))\n"
   ]
  },
  {
   "cell_type": "code",
   "execution_count": 13,
   "id": "0a05561f",
   "metadata": {},
   "outputs": [
    {
     "name": "stdout",
     "output_type": "stream",
     "text": [
      "Validation set size: 703\n"
     ]
    }
   ],
   "source": [
    "# check number of images in train, val and test sets\n",
    "working_dir = os.getcwd()\n",
    "print(\"Validation set size:\", \\\n",
    "    len(os.listdir(os.path.join(working_dir, \"data/EyePACS/val/noDR/\"))) + \\\n",
    "    len(os.listdir(os.path.join(working_dir, \"data/EyePACS/val/NPDR1/\"))) + \\\n",
    "    len(os.listdir(os.path.join(working_dir, \"data/EyePACS/val/NPDR2/\"))) + \\\n",
    "    len(os.listdir(os.path.join(working_dir, \"data/EyePACS/val/NPDR3/\"))) + \\\n",
    "    len(os.listdir(os.path.join(working_dir, \"data/EyePACS/val/PDR/\")))) "
   ]
  },
  {
   "cell_type": "code",
   "execution_count": 14,
   "id": "ca366eaa",
   "metadata": {},
   "outputs": [
    {
     "name": "stdout",
     "output_type": "stream",
     "text": [
      "Validation set w/o DR size: 517\n",
      "Validation set w NPDR1 size: 49\n",
      "Validation set w NPDR2 size: 106\n",
      "Validation set w NPDR3 size: 17\n",
      "Validation set w PDR size: 14\n"
     ]
    }
   ],
   "source": [
    "working_dir = os.getcwd()\n",
    "print(\"Validation set w/o DR size:\", len(os.listdir(os.path.join(working_dir, \"data/EyePACS/val/noDR/\"))))\n",
    "print(\"Validation set w NPDR1 size:\", len(os.listdir(os.path.join(working_dir, \"data/EyePACS/val/NPDR1/\"))))\n",
    "print(\"Validation set w NPDR2 size:\", len(os.listdir(os.path.join(working_dir, \"data/EyePACS/val/NPDR2/\"))))\n",
    "print(\"Validation set w NPDR3 size:\", len(os.listdir(os.path.join(working_dir, \"data/EyePACS/val/NPDR3/\"))))\n",
    "print(\"Validation set w PDR size:\", len(os.listdir(os.path.join(working_dir, \"data/EyePACS/val/PDR/\"))))"
   ]
  },
  {
   "cell_type": "markdown",
   "id": "c7c6cae3",
   "metadata": {},
   "source": [
    "## Separate images to test folder"
   ]
  },
  {
   "cell_type": "code",
   "execution_count": 15,
   "id": "71def094",
   "metadata": {},
   "outputs": [
    {
     "data": {
      "text/plain": [
       "5358"
      ]
     },
     "execution_count": 15,
     "metadata": {},
     "output_type": "execute_result"
    }
   ],
   "source": [
    "noDR_test = label_test.loc[label_test['level']==0, 'image']\n",
    "NPDR1_test = label_test.loc[label_test['level']==1, 'image']\n",
    "NPDR2_test = label_test.loc[label_test['level']==2, 'image']\n",
    "NPDR3_test = label_test.loc[label_test['level']==3, 'image']\n",
    "PDR_test = label_test.loc[label_test['level']==4, 'image']\n",
    "len(noDR_test) + len(NPDR1_test) + len(NPDR2_test) + len(NPDR3_test) + len(PDR_test)"
   ]
  },
  {
   "cell_type": "code",
   "execution_count": 16,
   "id": "11e7cde6",
   "metadata": {},
   "outputs": [],
   "source": [
    "for i in noDR_test:\n",
    "    shutil.copy(os.path.join(working_dir, 'data/EyePACS/images/test_small/{}.jpeg'.format(i)), os.path.join(working_dir, 'data/EyePACS/test/noDR/{}.jpeg'.format(i)))\n",
    "   \n",
    "for i in NPDR1_test:\n",
    "    shutil.copy(os.path.join(working_dir, 'data/EyePACS/images/test_small/{}.jpeg'.format(i)), os.path.join(working_dir, 'data/EyePACS/test/NPDR1/{}.jpeg'.format(i)))\n",
    "    \n",
    "for i in NPDR2_test:\n",
    "    shutil.copy(os.path.join(working_dir, 'data/EyePACS/images/test_small/{}.jpeg'.format(i)), os.path.join(working_dir, 'data/EyePACS/test/NPDR2/{}.jpeg'.format(i)))\n",
    "\n",
    "for i in NPDR3_test:\n",
    "    shutil.copy(os.path.join(working_dir, 'data/EyePACS/images/test_small/{}.jpeg'.format(i)), os.path.join(working_dir, 'data/EyePACS/test/NPDR3/{}.jpeg'.format(i)))\n",
    "\n",
    "for i in PDR_test:\n",
    "    shutil.copy(os.path.join(working_dir, 'data/EyePACS/images/test_small/{}.jpeg'.format(i)), os.path.join(working_dir, 'data/EyePACS/test/PDR/{}.jpeg'.format(i)))\n"
   ]
  },
  {
   "cell_type": "code",
   "execution_count": 17,
   "id": "6d6fa82b",
   "metadata": {},
   "outputs": [
    {
     "name": "stdout",
     "output_type": "stream",
     "text": [
      "Test set size: 5358\n"
     ]
    }
   ],
   "source": [
    "# check number of images in train, val and test sets\n",
    "working_dir = os.getcwd()\n",
    "print(\"Test set size:\", \\\n",
    "    len(os.listdir(os.path.join(working_dir, \"data/EyePACS/test/noDR/\"))) + \\\n",
    "    len(os.listdir(os.path.join(working_dir, \"data/EyePACS/test/NPDR1/\"))) + \\\n",
    "    len(os.listdir(os.path.join(working_dir, \"data/EyePACS/test/NPDR2/\"))) + \\\n",
    "    len(os.listdir(os.path.join(working_dir, \"data/EyePACS/test/NPDR3/\"))) + \\\n",
    "    len(os.listdir(os.path.join(working_dir, \"data/EyePACS/test/PDR/\")))) "
   ]
  },
  {
   "cell_type": "code",
   "execution_count": 18,
   "id": "0601ed50",
   "metadata": {},
   "outputs": [
    {
     "name": "stdout",
     "output_type": "stream",
     "text": [
      "Test set w/o DR size: 3954\n",
      "Test set w NPDR1 size: 376\n",
      "Test set w NPDR2 size: 786\n",
      "Test set w NPDR3 size: 121\n",
      "Test set w PDR size: 121\n"
     ]
    }
   ],
   "source": [
    "working_dir = os.getcwd()\n",
    "print(\"Test set w/o DR size:\", len(os.listdir(os.path.join(working_dir, \"data/EyePACS/test/noDR/\"))))\n",
    "print(\"Test set w NPDR1 size:\", len(os.listdir(os.path.join(working_dir, \"data/EyePACS/test/NPDR1/\"))))\n",
    "print(\"Test set w NPDR2 size:\", len(os.listdir(os.path.join(working_dir, \"data/EyePACS/test/NPDR2/\"))))\n",
    "print(\"Test set w NPDR3 size:\", len(os.listdir(os.path.join(working_dir, \"data/EyePACS/test/NPDR3/\"))))\n",
    "print(\"Test set w PDR size:\", len(os.listdir(os.path.join(working_dir, \"data/EyePACS/test/PDR/\"))))"
   ]
  }
 ],
 "metadata": {
  "environment": {
   "kernel": "python3",
   "name": "common-cu110.m91",
   "type": "gcloud",
   "uri": "gcr.io/deeplearning-platform-release/base-cu110:m91"
  },
  "kernelspec": {
   "display_name": "Python 3",
   "language": "python",
   "name": "python3"
  },
  "language_info": {
   "codemirror_mode": {
    "name": "ipython",
    "version": 3
   },
   "file_extension": ".py",
   "mimetype": "text/x-python",
   "name": "python",
   "nbconvert_exporter": "python",
   "pygments_lexer": "ipython3",
   "version": "3.9.12"
  }
 },
 "nbformat": 4,
 "nbformat_minor": 5
}
